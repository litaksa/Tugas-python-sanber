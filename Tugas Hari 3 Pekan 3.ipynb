{
 "cells": [
  {
   "cell_type": "code",
   "execution_count": 0,
   "metadata": {
    "colab": {},
    "colab_type": "code",
    "id": "IteQUZ48EAx1"
   },
   "outputs": [],
   "source": [
    "import matplotlib.pyplot as plt\n",
    "import numpy as np"
   ]
  },
  {
   "cell_type": "markdown",
   "metadata": {
    "colab_type": "text",
    "id": "KCNPCW96EAx6"
   },
   "source": [
    "<h2>Soal 1: Multiple Subplots</h2>\n",
    "\n",
    "Dengan data di bawah ini buatlah visualisasi seperti expected output:"
   ]
  },
  {
   "cell_type": "code",
   "execution_count": 0,
   "metadata": {
    "colab": {},
    "colab_type": "code",
    "id": "Z2pGFwmHEAx7"
   },
   "outputs": [],
   "source": [
    "x = np.linspace(2*-np.pi, 2*np.pi, 200)\n",
    "tan = np.tan(x)/10\n",
    "cos = np.cos(x)\n",
    "sin = np.sin(x)"
   ]
  },
  {
   "cell_type": "code",
   "execution_count": 0,
   "metadata": {
    "colab": {},
    "colab_type": "code",
    "id": "SyISw1M7EAx_"
   },
   "outputs": [],
   "source": [
    "# code here"
   ]
  },
  {
   "cell_type": "markdown",
   "metadata": {
    "colab_type": "text",
    "id": "MWUXsb6YEAyD"
   },
   "source": [
    "Expected Output:\n",
    "\n",
    "![alt text](https://drive.google.com/uc?id=1xdrkV37TJk7isPQIjg9gNJ6capaCLYam)"
   ]
  },
  {
   "cell_type": "markdown",
   "metadata": {
    "colab_type": "text",
    "id": "gY8rx4PPEAyD"
   },
   "source": [
    "<h2>Soal 2: Nested Axis</h2>\n",
    "\n",
    "Dengan data di bawah ini, buatlah visualisasi seperti expected output:"
   ]
  },
  {
   "cell_type": "code",
   "execution_count": 0,
   "metadata": {
    "colab": {},
    "colab_type": "code",
    "id": "JB6QRm6HEAyE"
   },
   "outputs": [],
   "source": [
    "x = np.linspace(2*-np.pi, 2*np.pi, 100)\n",
    "y = np.cos(x)\n",
    "y2 = np.cos(x**2)\n",
    "y3 = np.cos(x**3)\n",
    "y4 = np.cos(x**4)\n",
    "y5 = np.cos(x**5)"
   ]
  },
  {
   "cell_type": "code",
   "execution_count": 0,
   "metadata": {
    "colab": {},
    "colab_type": "code",
    "id": "YM_MNT-OEAyI"
   },
   "outputs": [],
   "source": [
    "# code here"
   ]
  },
  {
   "cell_type": "markdown",
   "metadata": {
    "colab_type": "text",
    "id": "PexVCCPWEAyL"
   },
   "source": [
    "Expected Output:\n",
    "\n",
    "![alt text](https://drive.google.com/uc?id=1xIdrYVaafiMdAP59fyMkxZ-qwxapAD_g)"
   ]
  }
 ],
 "metadata": {
  "colab": {
   "name": "Tugas Hari 3 Pekan 3.ipynb",
   "provenance": []
  },
  "kernelspec": {
   "display_name": "Python 3",
   "language": "python",
   "name": "python3"
  },
  "language_info": {
   "codemirror_mode": {
    "name": "ipython",
    "version": 3
   },
   "file_extension": ".py",
   "mimetype": "text/x-python",
   "name": "python",
   "nbconvert_exporter": "python",
   "pygments_lexer": "ipython3",
   "version": "3.7.4"
  }
 },
 "nbformat": 4,
 "nbformat_minor": 1
}
